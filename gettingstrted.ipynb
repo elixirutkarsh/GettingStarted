{
  "nbformat": 4,
  "nbformat_minor": 0,
  "metadata": {
    "colab": {
      "provenance": [],
      "authorship_tag": "ABX9TyMqvpMFQWUam97xLoS6qSE8",
      "include_colab_link": true
    },
    "kernelspec": {
      "name": "python3",
      "display_name": "Python 3"
    },
    "language_info": {
      "name": "python"
    }
  },
  "cells": [
    {
      "cell_type": "markdown",
      "metadata": {
        "id": "view-in-github",
        "colab_type": "text"
      },
      "source": [
        "<a href=\"https://colab.research.google.com/github/elixirutkarsh/GettingStarted/blob/main/gettingstrted.ipynb\" target=\"_parent\"><img src=\"https://colab.research.google.com/assets/colab-badge.svg\" alt=\"Open In Colab\"/></a>"
      ]
    },
    {
      "cell_type": "code",
      "execution_count": null,
      "metadata": {
        "id": "WhrwbRooJekN"
      },
      "outputs": [],
      "source": [
        "# Import libraries\n",
        "import pandas as pd\n",
        "import numpy as np\n",
        "import matplotlib.pyplot as plt\n",
        "import seaborn as sns\n",
        "from sklearn.model_selection import train_test_split\n",
        "from sklearn.linear_model import LogisticRegression\n",
        "from sklearn.metrics import accuracy_score, precision_score, recall_score, f1_score\n",
        "\n",
        "# Load the dataset\n",
        "heart_data = pd.read_csv('heart_attack_data.csv')\n",
        "\n",
        "# Explore the dataset\n",
        "print(heart_data.head())\n",
        "print(heart_data.info())\n",
        "print(heart_data.describe())\n",
        "print(heart_data.shape)\n",
        "\n",
        "# Handle missing data (if any)\n",
        "heart_data.dropna(inplace=True)  # Drop rows with missing values\n",
        "\n",
        "# Visualize the target variable\n",
        "sns.countplot(x='target', data=heart_data)\n",
        "plt.title('Heart Attack Distribution')\n",
        "plt.show()\n",
        "\n",
        "# Visualize feature distributions\n",
        "sns.histplot(data=heart_data, x='age', kde=True)\n",
        "plt.title('Age Distribution')\n",
        "plt.show()\n",
        "\n",
        "sns.boxplot(data=heart_data, x='chol')\n",
        "plt.title('Cholesterol Distribution')\n",
        "plt.show()\n",
        "\n",
        "# Explore feature relationships\n",
        "sns.scatterplot(data=heart_data, x='age', y='chol', hue='target')\n",
        "plt.title('Age vs Cholesterol')\n",
        "plt.show()\n",
        "\n",
        "sns.heatmap(heart_data.corr(), annot=True, cmap='coolwarm')\n",
        "plt.title('Correlation Matrix')\n",
        "plt.show()\n",
        "\n",
        "# Preprocess the data\n",
        "X = heart_data.drop('target', axis=1)\n",
        "y = heart_data['target']\n",
        "X_train, X_test, y_train, y_test = train_test_split(X, y, test_size=0.2, random_state=42)\n",
        "\n",
        "# Build a prediction model (using Logistic Regression)\n",
        "model = LogisticRegression()\n",
        "model.fit(X_train, y_train)\n",
        "\n",
        "# Make predictions\n",
        "y_pred = model.predict(X_test)\n",
        "\n",
        "# Evaluate model performance\n",
        "accuracy = accuracy_score(y_test, y_pred)\n",
        "precision = precision_score(y_test, y_pred)\n",
        "recall = recall_score(y_test, y_pred)\n",
        "f1 = f1_score(y_test, y_pred)\n",
        "\n",
        "print('Accuracy:', accuracy)\n",
        "print('Precision:', precision)\n",
        "print('Recall:', recall)\n",
        "print('F1-Score:', f1)\n",
        "\n",
        "# Fine-tune the model (if necessary)\n",
        "\n",
        "# Summarize findings\n",
        "\n"
      ]
    }
  ]
}